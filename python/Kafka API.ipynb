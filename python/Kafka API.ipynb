{
 "cells": [
  {
   "cell_type": "markdown",
   "id": "ce55eac2",
   "metadata": {},
   "source": [
    "# 1 Kafka"
   ]
  },
  {
   "cell_type": "markdown",
   "id": "68b4cc28",
   "metadata": {},
   "source": [
    "## 1.1 Api admin"
   ]
  },
  {
   "cell_type": "markdown",
   "id": "4efae8eb",
   "metadata": {},
   "source": [
    "Instalar librerías en python\n",
    "\n",
    "``` \n",
    "pip install confluent_kafka\n",
    "pip install avro\n",
    "```\n",
    "\n"
   ]
  },
  {
   "cell_type": "code",
   "execution_count": 4,
   "id": "c5c5a58d",
   "metadata": {},
   "outputs": [
    {
     "data": {
      "text/plain": [
       "{'topic-example': <Future at 0x104374100 state=running>}"
      ]
     },
     "execution_count": 4,
     "metadata": {},
     "output_type": "execute_result"
    }
   ],
   "source": [
    "from confluent_kafka.admin import AdminClient, NewTopic\n",
    "\n",
    "\n",
    "admin_client = AdminClient({\n",
    "    \"bootstrap.servers\": \"localhost:9092\"\n",
    "})\n",
    "\n",
    "topic_list = []\n",
    "topic_list.append(NewTopic(\"topic-example\", 3, 1))\n",
    "admin_client.create_topics(topic_list)\n"
   ]
  },
  {
   "cell_type": "markdown",
   "id": "101b3a50",
   "metadata": {},
   "source": [
    "## 1.2 Api producer"
   ]
  },
  {
   "cell_type": "code",
   "execution_count": 2,
   "id": "a0615d96",
   "metadata": {},
   "outputs": [],
   "source": [
    "from kafka import KafkaProducer\n",
    "\n",
    "producer = KafkaProducer(bootstrap_servers='localhost:9092')\n"
   ]
  },
  {
   "cell_type": "code",
   "execution_count": 6,
   "id": "898375ad",
   "metadata": {},
   "outputs": [
    {
     "data": {
      "text/plain": [
       "<kafka.producer.future.FutureRecordMetadata at 0x104374bb0>"
      ]
     },
     "execution_count": 6,
     "metadata": {},
     "output_type": "execute_result"
    }
   ],
   "source": [
    "\n",
    "producer.send('topic-example', b'example topic')\n",
    "producer.send('topic-example', value=b'value_A', key=b'key')\n",
    "\n",
    "\n",
    "# producer.send('topic-example', value='value_A', key='key', headers=None, partition=None, timestamp_ms=None)\n",
    "\n",
    "\n",
    "producer."
   ]
  },
  {
   "cell_type": "code",
   "execution_count": null,
   "id": "a7cad65e",
   "metadata": {},
   "outputs": [],
   "source": [
    "Ejercicio: implementar un productor con compresión gzip "
   ]
  },
  {
   "cell_type": "markdown",
   "id": "cd0f21d9",
   "metadata": {},
   "source": [
    "## 1.3 Api consumer"
   ]
  },
  {
   "cell_type": "code",
   "execution_count": null,
   "id": "89b6e709",
   "metadata": {},
   "outputs": [],
   "source": [
    "from kafka import KafkaConsumer\n",
    "\n",
    "consumer = KafkaConsumer('topic-example', group_id='consumer_a', bootstrap_servers='localhost:9092')\n",
    "\n",
    "for msg in consumer:\n",
    "    print (msg)\n",
    "    break"
   ]
  },
  {
   "cell_type": "markdown",
   "id": "c554844f",
   "metadata": {},
   "source": [
    "## 1.4 Idempotencia"
   ]
  },
  {
   "cell_type": "markdown",
   "id": "5ebfa933",
   "metadata": {},
   "source": [
    "### 1.4.1 Productor idempotente"
   ]
  },
  {
   "cell_type": "code",
   "execution_count": 7,
   "id": "fab8a98b",
   "metadata": {},
   "outputs": [],
   "source": [
    "# https://docs.confluent.io/kafka-clients/python/current/overview.html#ak-consumer\n",
    "\n",
    "from confluent_kafka import Producer\n",
    "import socket\n",
    "\n",
    "conf = {'bootstrap.servers': \"localhost:9092\",\n",
    "        'client.id': socket.gethostname(),\n",
    "       'transactional.id': 'productor.idem',\n",
    "       'enable.idempotence': True}\n",
    "\n",
    "producer = Producer(conf)\n",
    "producer.init_transactions()\n",
    "producer.begin_transaction()\n",
    "\n",
    "try:\n",
    "    value = 'Hello curso kafka'\n",
    "    producer.produce('topic', key=\"key\", value=value)\n",
    "\n",
    "    producer.commit_transaction()\n",
    "except:\n",
    "    print('Error')\n",
    "    producer.abort_transaction()\n",
    "\n"
   ]
  },
  {
   "cell_type": "markdown",
   "id": "c0c6d8cc",
   "metadata": {},
   "source": [
    "### 1.4.1 Consumidor idempotente"
   ]
  },
  {
   "cell_type": "code",
   "execution_count": 26,
   "id": "ced641ea",
   "metadata": {},
   "outputs": [
    {
     "name": "stdout",
     "output_type": "stream",
     "text": [
      "<cimpl.Message object at 0x115773940>\n",
      "<cimpl.Message object at 0x115d35ac0>\n",
      "<cimpl.Message object at 0x115773940>\n",
      "<cimpl.Message object at 0x115d35ac0>\n",
      "<cimpl.Message object at 0x115773940>\n",
      "<cimpl.Message object at 0x115d355c0>\n",
      "<cimpl.Message object at 0x115773940>\n",
      "<cimpl.Message object at 0x115d355c0>\n",
      "<cimpl.Message object at 0x115773940>\n",
      "<cimpl.Message object at 0x115d35ac0>\n",
      "<cimpl.Message object at 0x115773940>\n",
      "<cimpl.Message object at 0x115d35ac0>\n",
      "<cimpl.Message object at 0x115773940>\n",
      "<cimpl.Message object at 0x115d35ac0>\n",
      "<cimpl.Message object at 0x115773940>\n",
      "<cimpl.Message object at 0x115d35ac0>\n",
      "<cimpl.Message object at 0x115773940>\n",
      "<cimpl.Message object at 0x115d35ac0>\n",
      "<cimpl.Message object at 0x115773940>\n",
      "<cimpl.Message object at 0x115d35ac0>\n",
      "<cimpl.Message object at 0x115773940>\n",
      "<cimpl.Message object at 0x115d35ac0>\n",
      "<cimpl.Message object at 0x115773940>\n",
      "<cimpl.Message object at 0x115773940>\n"
     ]
    },
    {
     "ename": "KeyboardInterrupt",
     "evalue": "",
     "output_type": "error",
     "traceback": [
      "\u001B[0;31m---------------------------------------------------------------------------\u001B[0m",
      "\u001B[0;31mKeyboardInterrupt\u001B[0m                         Traceback (most recent call last)",
      "Input \u001B[0;32mIn [26]\u001B[0m, in \u001B[0;36m<cell line: 15>\u001B[0;34m()\u001B[0m\n\u001B[1;32m     13\u001B[0m consumer\u001B[38;5;241m.\u001B[39msubscribe(topics)\n\u001B[1;32m     14\u001B[0m \u001B[38;5;28;01mwhile\u001B[39;00m \u001B[38;5;28;01mTrue\u001B[39;00m:\n\u001B[0;32m---> 15\u001B[0m     msg \u001B[38;5;241m=\u001B[39m \u001B[43mconsumer\u001B[49m\u001B[38;5;241;43m.\u001B[39;49m\u001B[43mpoll\u001B[49m\u001B[43m(\u001B[49m\u001B[43mtimeout\u001B[49m\u001B[38;5;241;43m=\u001B[39;49m\u001B[38;5;241;43m1.0\u001B[39;49m\u001B[43m)\u001B[49m\n\u001B[1;32m     16\u001B[0m     \u001B[38;5;28;01mif\u001B[39;00m msg \u001B[38;5;129;01mis\u001B[39;00m \u001B[38;5;129;01mnot\u001B[39;00m \u001B[38;5;28;01mNone\u001B[39;00m:\n\u001B[1;32m     17\u001B[0m         \u001B[38;5;28mprint\u001B[39m(msg)\n",
      "\u001B[0;31mKeyboardInterrupt\u001B[0m: "
     ]
    }
   ],
   "source": [
    "from confluent_kafka import Consumer\n",
    "\n",
    "conf = {'bootstrap.servers': 'localhost:9092',\n",
    "        'group.id': \"foo123\",\n",
    "        'enable.auto.commit': False,\n",
    "        'auto.offset.reset': 'earliest',\n",
    "        'isolation.level': 'read_committed'}\n",
    "\n",
    "\n",
    "consumer = Consumer(conf)\n",
    "\n",
    "topics = ['test']\n",
    "consumer.subscribe(topics)\n",
    "try:\n",
    "    while True:\n",
    "        msg = consumer.poll(timeout=1.0)\n",
    "        if msg is not None:\n",
    "            print(msg)\n",
    "            consumer.commit(asynchronous=False)\n",
    "except:\n",
    "    print('Error')\n"
   ]
  },
  {
   "cell_type": "code",
   "execution_count": null,
   "id": "0ab37b75",
   "metadata": {},
   "outputs": [],
   "source": []
  },
  {
   "cell_type": "code",
   "execution_count": null,
   "id": "d5f277c0",
   "metadata": {},
   "outputs": [],
   "source": []
  }
 ],
 "metadata": {
  "kernelspec": {
   "display_name": "Python 3 (ipykernel)",
   "language": "python",
   "name": "python3"
  },
  "language_info": {
   "codemirror_mode": {
    "name": "ipython",
    "version": 3
   },
   "file_extension": ".py",
   "mimetype": "text/x-python",
   "name": "python",
   "nbconvert_exporter": "python",
   "pygments_lexer": "ipython3",
   "version": "3.9.13"
  }
 },
 "nbformat": 4,
 "nbformat_minor": 5
}
