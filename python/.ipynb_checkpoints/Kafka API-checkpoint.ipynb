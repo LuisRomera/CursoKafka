{
 "cells": [
  {
   "cell_type": "markdown",
   "id": "ce55eac2",
   "metadata": {},
   "source": [
    "# 1 Kafka"
   ]
  },
  {
   "cell_type": "markdown",
   "id": "68b4cc28",
   "metadata": {},
   "source": [
    "## 1.1 Api admin"
   ]
  },
  {
   "cell_type": "markdown",
   "id": "4efae8eb",
   "metadata": {},
   "source": [
    "Instalar librerías en python\n",
    "\n",
    "``` \n",
    "pip install confluent_kafka\n",
    "pip install avro\n",
    "```\n",
    "\n"
   ]
  },
  {
   "cell_type": "code",
   "execution_count": 4,
   "id": "c5c5a58d",
   "metadata": {},
   "outputs": [
    {
     "data": {
      "text/plain": [
       "{'topic-example': <Future at 0x104374100 state=running>}"
      ]
     },
     "execution_count": 4,
     "metadata": {},
     "output_type": "execute_result"
    }
   ],
   "source": [
    "from confluent_kafka.admin import AdminClient, NewTopic\n",
    "\n",
    "\n",
    "admin_client = AdminClient({\n",
    "    \"bootstrap.servers\": \"localhost:9092\"\n",
    "})\n",
    "\n",
    "topic_list = []\n",
    "topic_list.append(NewTopic(\"topic-example\", 3, 1))\n",
    "admin_client.create_topics(topic_list)\n"
   ]
  },
  {
   "cell_type": "markdown",
   "id": "101b3a50",
   "metadata": {},
   "source": [
    "## 1.2 Api producer"
   ]
  },
  {
   "cell_type": "code",
   "execution_count": 5,
   "id": "a0615d96",
   "metadata": {},
   "outputs": [],
   "source": [
    "from kafka import KafkaProducer\n",
    "\n",
    "producer = KafkaProducer(bootstrap_servers='localhost:9092')\n"
   ]
  },
  {
   "cell_type": "code",
   "execution_count": 6,
   "id": "898375ad",
   "metadata": {},
   "outputs": [
    {
     "data": {
      "text/plain": [
       "<kafka.producer.future.FutureRecordMetadata at 0x104374bb0>"
      ]
     },
     "execution_count": 6,
     "metadata": {},
     "output_type": "execute_result"
    }
   ],
   "source": [
    "\n",
    "producer.send('topic-example', b'example topic')\n",
    "producer.send('topic-example', value=b'value_A', key=b'key')\n",
    "\n",
    "\n",
    "# producer.send('topic-example', value='value_A', key='key', headers=None, partition=None, timestamp_ms=None)\n",
    "\n",
    "\n",
    "producer."
   ]
  },
  {
   "cell_type": "code",
   "execution_count": null,
   "id": "a7cad65e",
   "metadata": {},
   "outputs": [],
   "source": [
    "Ejercicio: implementar un productor con compresión gzip "
   ]
  },
  {
   "cell_type": "markdown",
   "id": "cd0f21d9",
   "metadata": {},
   "source": [
    "## 1.3 Api consumer"
   ]
  },
  {
   "cell_type": "code",
   "execution_count": null,
   "id": "89b6e709",
   "metadata": {},
   "outputs": [],
   "source": [
    "from kafka import KafkaConsumer\n",
    "\n",
    "consumer = KafkaConsumer('topic-example', group_id='consumer_a', bootstrap_servers='localhost:9092')\n",
    "\n",
    "for msg in consumer:\n",
    "    print (msg)\n",
    "    break"
   ]
  },
  {
   "cell_type": "markdown",
   "id": "471a1472",
   "metadata": {},
   "source": [
    "## 1.4 Schema Registry"
   ]
  },
  {
   "cell_type": "code",
   "execution_count": 28,
   "id": "5a031252",
   "metadata": {},
   "outputs": [
    {
     "data": {
      "text/plain": [
       "{'type': 'record',\n",
       " 'name': 'Person',\n",
       " 'namespace': 'com.curso.kafka',\n",
       " 'fields': [{'name': 'firstName', 'type': 'string'},\n",
       "  {'name': 'lastName', 'type': 'string'},\n",
       "  {'name': 'age', 'type': 'long'}]}"
      ]
     },
     "execution_count": 28,
     "metadata": {},
     "output_type": "execute_result"
    }
   ],
   "source": [
    "# Crea el schema con nombre person en el schema registry\n",
    "{\n",
    "  \"type\": \"record\",\n",
    "  \"name\": \"Person\",\n",
    "  \"namespace\": \"com.curso.kafka\",\n",
    "  \"fields\": [\n",
    "    {\n",
    "      \"name\": \"firstName\",\n",
    "      \"type\": \"string\"\n",
    "    },\n",
    "    {\n",
    "      \"name\": \"lastName\",\n",
    "      \"type\": \"string\"\n",
    "    },\n",
    "    {\n",
    "      \"name\": \"age\",\n",
    "      \"type\": \"long\"\n",
    "    }\n",
    "  ]\n",
    "}"
   ]
  },
  {
   "cell_type": "code",
   "execution_count": 34,
   "id": "cb9872cb",
   "metadata": {},
   "outputs": [
    {
     "data": {
      "text/plain": [
       "'{\"type\":\"record\",\"name\":\"newSchema\",\"namespace\":\"com.curso.kafka\",\"fields\":[{\"name\":\"firstName\",\"type\":\"string\"},{\"name\":\"lastName\",\"type\":\"string\"},{\"name\":\"age\",\"type\":\"long\"}]}'"
      ]
     },
     "execution_count": 34,
     "metadata": {},
     "output_type": "execute_result"
    }
   ],
   "source": [
    "import requests\n",
    "schema_name = 'newSchema'\n",
    "\n",
    "r = requests.get('http://localhost:8081/subjects/' + schema_name +'/versions/1')\n",
    "\n",
    "sc = r.json()['schema']\n",
    "\n",
    "from confluent_kafka.avro import AvroProducer\n",
    "from confluent_kafka import avro\n",
    "from confluent_kafka.schema_registry import (_MAGIC_BYTE,\n",
    "                                             Schema,\n",
    "                                             topic_subject_name_strategy)\n",
    "\n",
    "\n",
    "\n",
    "schema = Schema(sc, schema_type=\"JSON\")\n",
    "schema.schema_str"
   ]
  },
  {
   "cell_type": "code",
   "execution_count": 35,
   "id": "239919eb",
   "metadata": {},
   "outputs": [
    {
     "name": "stderr",
     "output_type": "stream",
     "text": [
      "/var/folders/71/197r1l414ysbpbjvy9ktvzcr0000gn/T/ipykernel_1510/412467054.py:5: DeprecationWarning: AvroProducer has been deprecated. Use AvroSerializer instead.\n",
      "  producer = AvroProducer(producer_config, default_value_schema=schema)\n"
     ]
    }
   ],
   "source": [
    "\n",
    "producer_config = {\n",
    "        \"bootstrap.servers\": \"localhost:9092\",\n",
    "        \"schema.registry.url\": \"http://localhost:8081\"\n",
    "    }\n",
    "producer = AvroProducer(producer_config, default_value_schema=schema)"
   ]
  },
  {
   "cell_type": "code",
   "execution_count": 37,
   "id": "95e237e3",
   "metadata": {},
   "outputs": [
    {
     "ename": "ClientError",
     "evalue": "Invalid Avro schema:422 message:{'error_code': 42201, 'message': 'Invalid schema <confluent_kafka.schema_registry.schema_registry_client.Schema object at 0x124805300> with refs [] of type AVRO, details: com.fasterxml.jackson.core.JsonParseException: Unexpected character (\\'<\\' (code 60)): expected a valid value (JSON String, Number, Array, Object or token \\'null\\', \\'true\\' or \\'false\\')\\n at [Source: (String)\"<confluent_kafka.schema_registry.schema_registry_client.Schema object at 0x124805300>\"; line: 1, column: 2]'}",
     "output_type": "error",
     "traceback": [
      "\u001B[0;31m---------------------------------------------------------------------------\u001B[0m",
      "\u001B[0;31mClientError\u001B[0m                               Traceback (most recent call last)",
      "Input \u001B[0;32mIn [37]\u001B[0m, in \u001B[0;36m<cell line: 3>\u001B[0;34m()\u001B[0m\n\u001B[1;32m      1\u001B[0m value \u001B[38;5;241m=\u001B[39m {\u001B[38;5;124m'\u001B[39m\u001B[38;5;124mfirstName\u001B[39m\u001B[38;5;124m'\u001B[39m: \u001B[38;5;124m'\u001B[39m\u001B[38;5;124mPepe\u001B[39m\u001B[38;5;124m'\u001B[39m, \u001B[38;5;124m'\u001B[39m\u001B[38;5;124mlastName\u001B[39m\u001B[38;5;124m'\u001B[39m: \u001B[38;5;124m'\u001B[39m\u001B[38;5;124mGarcia\u001B[39m\u001B[38;5;124m'\u001B[39m, \u001B[38;5;124m'\u001B[39m\u001B[38;5;124mage\u001B[39m\u001B[38;5;124m'\u001B[39m: \u001B[38;5;241m30\u001B[39m}\n\u001B[0;32m----> 3\u001B[0m \u001B[43mproducer\u001B[49m\u001B[38;5;241;43m.\u001B[39;49m\u001B[43mproduce\u001B[49m\u001B[43m(\u001B[49m\u001B[43mtopic\u001B[49m\u001B[38;5;241;43m=\u001B[39;49m\u001B[38;5;124;43m'\u001B[39;49m\u001B[38;5;124;43mpeople\u001B[39;49m\u001B[38;5;124;43m'\u001B[39;49m\u001B[43m,\u001B[49m\u001B[43m \u001B[49m\u001B[43mvalue\u001B[49m\u001B[38;5;241;43m=\u001B[39;49m\u001B[43mvalue\u001B[49m\u001B[43m)\u001B[49m\n",
      "File \u001B[0;32m/opt/anaconda3/lib/python3.9/site-packages/confluent_kafka/avro/__init__.py:107\u001B[0m, in \u001B[0;36mAvroProducer.produce\u001B[0;34m(self, **kwargs)\u001B[0m\n\u001B[1;32m    105\u001B[0m \u001B[38;5;28;01mif\u001B[39;00m value \u001B[38;5;129;01mis\u001B[39;00m \u001B[38;5;129;01mnot\u001B[39;00m \u001B[38;5;28;01mNone\u001B[39;00m:\n\u001B[1;32m    106\u001B[0m     \u001B[38;5;28;01mif\u001B[39;00m value_schema:\n\u001B[0;32m--> 107\u001B[0m         value \u001B[38;5;241m=\u001B[39m \u001B[38;5;28;43mself\u001B[39;49m\u001B[38;5;241;43m.\u001B[39;49m\u001B[43m_serializer\u001B[49m\u001B[38;5;241;43m.\u001B[39;49m\u001B[43mencode_record_with_schema\u001B[49m\u001B[43m(\u001B[49m\u001B[43mtopic\u001B[49m\u001B[43m,\u001B[49m\u001B[43m \u001B[49m\u001B[43mvalue_schema\u001B[49m\u001B[43m,\u001B[49m\u001B[43m \u001B[49m\u001B[43mvalue\u001B[49m\u001B[43m)\u001B[49m\n\u001B[1;32m    108\u001B[0m     \u001B[38;5;28;01melse\u001B[39;00m:\n\u001B[1;32m    109\u001B[0m         \u001B[38;5;28;01mraise\u001B[39;00m ValueSerializerError(\u001B[38;5;124m\"\u001B[39m\u001B[38;5;124mAvro schema required for values\u001B[39m\u001B[38;5;124m\"\u001B[39m)\n",
      "File \u001B[0;32m/opt/anaconda3/lib/python3.9/site-packages/confluent_kafka/avro/serializer/message_serializer.py:109\u001B[0m, in \u001B[0;36mMessageSerializer.encode_record_with_schema\u001B[0;34m(self, topic, schema, record, is_key)\u001B[0m\n\u001B[1;32m    106\u001B[0m subject \u001B[38;5;241m=\u001B[39m topic \u001B[38;5;241m+\u001B[39m subject_suffix\n\u001B[1;32m    107\u001B[0m \u001B[38;5;28;01mif\u001B[39;00m \u001B[38;5;28mself\u001B[39m\u001B[38;5;241m.\u001B[39mregistry_client\u001B[38;5;241m.\u001B[39mauto_register_schemas:\n\u001B[1;32m    108\u001B[0m     \u001B[38;5;66;03m# register it\u001B[39;00m\n\u001B[0;32m--> 109\u001B[0m     schema_id \u001B[38;5;241m=\u001B[39m \u001B[38;5;28;43mself\u001B[39;49m\u001B[38;5;241;43m.\u001B[39;49m\u001B[43mregistry_client\u001B[49m\u001B[38;5;241;43m.\u001B[39;49m\u001B[43mregister\u001B[49m\u001B[43m(\u001B[49m\u001B[43msubject\u001B[49m\u001B[43m,\u001B[49m\u001B[43m \u001B[49m\u001B[43mschema\u001B[49m\u001B[43m)\u001B[49m\n\u001B[1;32m    110\u001B[0m \u001B[38;5;28;01melse\u001B[39;00m:\n\u001B[1;32m    111\u001B[0m     schema_id \u001B[38;5;241m=\u001B[39m \u001B[38;5;28mself\u001B[39m\u001B[38;5;241m.\u001B[39mregistry_client\u001B[38;5;241m.\u001B[39mcheck_registration(subject, schema)\n",
      "File \u001B[0;32m/opt/anaconda3/lib/python3.9/site-packages/confluent_kafka/avro/cached_schema_registry_client.py:226\u001B[0m, in \u001B[0;36mCachedSchemaRegistryClient.register\u001B[0;34m(self, subject, avro_schema)\u001B[0m\n\u001B[1;32m    223\u001B[0m     \u001B[38;5;28;01mraise\u001B[39;00m ClientError(\u001B[38;5;124m\"\u001B[39m\u001B[38;5;124mIncompatible Avro schema:\u001B[39m\u001B[38;5;124m\"\u001B[39m \u001B[38;5;241m+\u001B[39m \u001B[38;5;28mstr\u001B[39m(code)\n\u001B[1;32m    224\u001B[0m                       \u001B[38;5;241m+\u001B[39m \u001B[38;5;124m\"\u001B[39m\u001B[38;5;124m message:\u001B[39m\u001B[38;5;124m\"\u001B[39m \u001B[38;5;241m+\u001B[39m \u001B[38;5;28mstr\u001B[39m(result))\n\u001B[1;32m    225\u001B[0m \u001B[38;5;28;01melif\u001B[39;00m code \u001B[38;5;241m==\u001B[39m \u001B[38;5;241m422\u001B[39m:\n\u001B[0;32m--> 226\u001B[0m     \u001B[38;5;28;01mraise\u001B[39;00m ClientError(\u001B[38;5;124m\"\u001B[39m\u001B[38;5;124mInvalid Avro schema:\u001B[39m\u001B[38;5;124m\"\u001B[39m \u001B[38;5;241m+\u001B[39m \u001B[38;5;28mstr\u001B[39m(code)\n\u001B[1;32m    227\u001B[0m                       \u001B[38;5;241m+\u001B[39m \u001B[38;5;124m\"\u001B[39m\u001B[38;5;124m message:\u001B[39m\u001B[38;5;124m\"\u001B[39m \u001B[38;5;241m+\u001B[39m \u001B[38;5;28mstr\u001B[39m(result))\n\u001B[1;32m    228\u001B[0m \u001B[38;5;28;01melif\u001B[39;00m \u001B[38;5;129;01mnot\u001B[39;00m (code \u001B[38;5;241m>\u001B[39m\u001B[38;5;241m=\u001B[39m \u001B[38;5;241m200\u001B[39m \u001B[38;5;129;01mand\u001B[39;00m code \u001B[38;5;241m<\u001B[39m\u001B[38;5;241m=\u001B[39m \u001B[38;5;241m299\u001B[39m):\n\u001B[1;32m    229\u001B[0m     \u001B[38;5;28;01mraise\u001B[39;00m ClientError(\u001B[38;5;124m\"\u001B[39m\u001B[38;5;124mUnable to register schema. Error code:\u001B[39m\u001B[38;5;124m\"\u001B[39m \u001B[38;5;241m+\u001B[39m \u001B[38;5;28mstr\u001B[39m(code)\n\u001B[1;32m    230\u001B[0m                       \u001B[38;5;241m+\u001B[39m \u001B[38;5;124m\"\u001B[39m\u001B[38;5;124m message:\u001B[39m\u001B[38;5;124m\"\u001B[39m \u001B[38;5;241m+\u001B[39m \u001B[38;5;28mstr\u001B[39m(result))\n",
      "\u001B[0;31mClientError\u001B[0m: Invalid Avro schema:422 message:{'error_code': 42201, 'message': 'Invalid schema <confluent_kafka.schema_registry.schema_registry_client.Schema object at 0x124805300> with refs [] of type AVRO, details: com.fasterxml.jackson.core.JsonParseException: Unexpected character (\\'<\\' (code 60)): expected a valid value (JSON String, Number, Array, Object or token \\'null\\', \\'true\\' or \\'false\\')\\n at [Source: (String)\"<confluent_kafka.schema_registry.schema_registry_client.Schema object at 0x124805300>\"; line: 1, column: 2]'}"
     ]
    }
   ],
   "source": [
    "value = {'firstName': 'Pepe', 'lastName': 'Garcia', 'age': 30}\n",
    "\n",
    "producer.produce(topic='people', value=value)"
   ]
  }
 ],
 "metadata": {
  "kernelspec": {
   "display_name": "Python 3 (ipykernel)",
   "language": "python",
   "name": "python3"
  },
  "language_info": {
   "codemirror_mode": {
    "name": "ipython",
    "version": 3
   },
   "file_extension": ".py",
   "mimetype": "text/x-python",
   "name": "python",
   "nbconvert_exporter": "python",
   "pygments_lexer": "ipython3",
   "version": "3.9.13"
  }
 },
 "nbformat": 4,
 "nbformat_minor": 5
}
