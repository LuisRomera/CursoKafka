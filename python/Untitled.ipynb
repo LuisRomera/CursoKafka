{
 "cells": [
  {
   "cell_type": "markdown",
   "id": "403e4a96",
   "metadata": {},
   "source": [
    "pip install tweepy"
   ]
  },
  {
   "cell_type": "code",
   "execution_count": 5,
   "id": "0cc56da2",
   "metadata": {},
   "outputs": [],
   "source": [
    "import tweepy\n",
    " \n",
    "# API keywsGnyoGPDkmoxDN9KqoGr69DRn6 that yous saved earlier\n",
    "consumer_key = \"GnyoGPDkmoxDN9KqoGr69DRn6\"\n",
    "consumer_secret = \"PnIwW0ML79C9836DzDMJGuJkcPNp1xnKBb6PDilySk3HauXDPD\"\n",
    "access_token = \"92796641-aFrrw9W0dlavINbAuMyKMyN2PDhXgIC3VWe12YgN9\"\n",
    "access_token_secret = \"TvUNNsUhf8XItDTP02IzUpKaBwdeG3wKfqHUEa7uQBkg0\"\n",
    "bearer = \"AAAAAAAAAAAAAAAAAAAAAG3piwEAAAAA6eYSkcIWjulibgGo%2Fdst4isLUdg%3D09WH7tFEwgKVXZYMqJ7QDbAeDZhIeVsjSI4QlFWQCrhlVoVDpq\"\n",
    "\n",
    "\n",
    "\n"
   ]
  },
  {
   "cell_type": "code",
   "execution_count": 13,
   "id": "5a244f4c",
   "metadata": {},
   "outputs": [
    {
     "name": "stderr",
     "output_type": "stream",
     "text": [
      "Stream encountered HTTP error: 403\n",
      "HTTP error response text: <html>\\n<head>\\n<meta http-equiv=\"Content-Type\" content=\"text/html; charset=utf-8\"/>\\n<title>Error 403 \n",
      "Please use V2 filtered and sample volume stream as alternatives\n",
      "</title>\n",
      "</head>\n",
      "<body>\n",
      "<h2>HTTP ERROR: 403</h2>\n",
      "<p>Problem accessing '/1.1/statuses/filter.json'. Reason:\n",
      "<pre>    \n",
      "Please use V2 filtered and sample volume stream as alternatives\n",
      "</pre>\n",
      "</body>\n",
      "</html>\n",
      "\n",
      "Stream encountered HTTP error: 403\n",
      "HTTP error response text: <html>\\n<head>\\n<meta http-equiv=\"Content-Type\" content=\"text/html; charset=utf-8\"/>\\n<title>Error 403 \n",
      "Please use V2 filtered and sample volume stream as alternatives\n",
      "</title>\n",
      "</head>\n",
      "<body>\n",
      "<h2>HTTP ERROR: 403</h2>\n",
      "<p>Problem accessing '/1.1/statuses/filter.json'. Reason:\n",
      "<pre>    \n",
      "Please use V2 filtered and sample volume stream as alternatives\n",
      "</pre>\n",
      "</body>\n",
      "</html>\n",
      "\n"
     ]
    },
    {
     "ename": "KeyboardInterrupt",
     "evalue": "",
     "output_type": "error",
     "traceback": [
      "\u001B[0;31m---------------------------------------------------------------------------\u001B[0m",
      "\u001B[0;31mKeyboardInterrupt\u001B[0m                         Traceback (most recent call last)",
      "Input \u001B[0;32mIn [13]\u001B[0m, in \u001B[0;36m<cell line: 17>\u001B[0;34m()\u001B[0m\n\u001B[1;32m     13\u001B[0m         \u001B[38;5;28;01mreturn\u001B[39;00m \u001B[38;5;28;01mTrue\u001B[39;00m\n\u001B[1;32m     15\u001B[0m twitter_stream \u001B[38;5;241m=\u001B[39m MyListener(consumer_key, consumer_secret, access_token, access_token_secret)\n\u001B[0;32m---> 17\u001B[0m \u001B[43mtwitter_stream\u001B[49m\u001B[38;5;241;43m.\u001B[39;49m\u001B[43mfilter\u001B[49m\u001B[43m(\u001B[49m\u001B[43mtrack\u001B[49m\u001B[38;5;241;43m=\u001B[39;49m\u001B[43m[\u001B[49m\u001B[38;5;124;43m'\u001B[39;49m\u001B[38;5;124;43mpython\u001B[39;49m\u001B[38;5;124;43m'\u001B[39;49m\u001B[43m]\u001B[49m\u001B[43m)\u001B[49m\n",
      "File \u001B[0;32m/opt/anaconda3/lib/python3.9/site-packages/tweepy/streaming.py:385\u001B[0m, in \u001B[0;36mStream.filter\u001B[0;34m(self, follow, track, locations, filter_level, languages, stall_warnings, threaded)\u001B[0m\n\u001B[1;32m    382\u001B[0m     \u001B[38;5;28;01mreturn\u001B[39;00m \u001B[38;5;28mself\u001B[39m\u001B[38;5;241m.\u001B[39m_threaded_connect(method, endpoint, headers\u001B[38;5;241m=\u001B[39mheaders,\n\u001B[1;32m    383\u001B[0m                                   body\u001B[38;5;241m=\u001B[39mbody)\n\u001B[1;32m    384\u001B[0m \u001B[38;5;28;01melse\u001B[39;00m:\n\u001B[0;32m--> 385\u001B[0m     \u001B[38;5;28;43mself\u001B[39;49m\u001B[38;5;241;43m.\u001B[39;49m\u001B[43m_connect\u001B[49m\u001B[43m(\u001B[49m\u001B[43mmethod\u001B[49m\u001B[43m,\u001B[49m\u001B[43m \u001B[49m\u001B[43mendpoint\u001B[49m\u001B[43m,\u001B[49m\u001B[43m \u001B[49m\u001B[43mheaders\u001B[49m\u001B[38;5;241;43m=\u001B[39;49m\u001B[43mheaders\u001B[49m\u001B[43m,\u001B[49m\u001B[43m \u001B[49m\u001B[43mbody\u001B[49m\u001B[38;5;241;43m=\u001B[39;49m\u001B[43mbody\u001B[49m\u001B[43m)\u001B[49m\n",
      "File \u001B[0;32m/opt/anaconda3/lib/python3.9/site-packages/tweepy/streaming.py:292\u001B[0m, in \u001B[0;36mStream._connect\u001B[0;34m(self, method, endpoint, **kwargs)\u001B[0m\n\u001B[1;32m    289\u001B[0m auth \u001B[38;5;241m=\u001B[39m OAuth1(\u001B[38;5;28mself\u001B[39m\u001B[38;5;241m.\u001B[39mconsumer_key, \u001B[38;5;28mself\u001B[39m\u001B[38;5;241m.\u001B[39mconsumer_secret,\n\u001B[1;32m    290\u001B[0m               \u001B[38;5;28mself\u001B[39m\u001B[38;5;241m.\u001B[39maccess_token, \u001B[38;5;28mself\u001B[39m\u001B[38;5;241m.\u001B[39maccess_token_secret)\n\u001B[1;32m    291\u001B[0m url \u001B[38;5;241m=\u001B[39m \u001B[38;5;124mf\u001B[39m\u001B[38;5;124m\"\u001B[39m\u001B[38;5;124mhttps://stream.twitter.com/1.1/\u001B[39m\u001B[38;5;132;01m{\u001B[39;00mendpoint\u001B[38;5;132;01m}\u001B[39;00m\u001B[38;5;124m.json\u001B[39m\u001B[38;5;124m\"\u001B[39m\n\u001B[0;32m--> 292\u001B[0m \u001B[38;5;28;43msuper\u001B[39;49m\u001B[43m(\u001B[49m\u001B[43m)\u001B[49m\u001B[38;5;241;43m.\u001B[39;49m\u001B[43m_connect\u001B[49m\u001B[43m(\u001B[49m\u001B[43mmethod\u001B[49m\u001B[43m,\u001B[49m\u001B[43m \u001B[49m\u001B[43murl\u001B[49m\u001B[43m,\u001B[49m\u001B[43m \u001B[49m\u001B[43mauth\u001B[49m\u001B[38;5;241;43m=\u001B[39;49m\u001B[43mauth\u001B[49m\u001B[43m,\u001B[49m\u001B[43m \u001B[49m\u001B[43mtimeout\u001B[49m\u001B[38;5;241;43m=\u001B[39;49m\u001B[38;5;241;43m90\u001B[39;49m\u001B[43m,\u001B[49m\u001B[43m \u001B[49m\u001B[38;5;241;43m*\u001B[39;49m\u001B[38;5;241;43m*\u001B[39;49m\u001B[43mkwargs\u001B[49m\u001B[43m)\u001B[49m\n",
      "File \u001B[0;32m/opt/anaconda3/lib/python3.9/site-packages/tweepy/streaming.py:120\u001B[0m, in \u001B[0;36mBaseStream._connect\u001B[0;34m(self, method, url, auth, params, headers, body, timeout)\u001B[0m\n\u001B[1;32m    117\u001B[0m     \u001B[38;5;28;01mif\u001B[39;00m http_error_wait \u001B[38;5;241m<\u001B[39m http_429_error_wait_start:\n\u001B[1;32m    118\u001B[0m         http_error_wait \u001B[38;5;241m=\u001B[39m http_429_error_wait_start\n\u001B[0;32m--> 120\u001B[0m \u001B[43msleep\u001B[49m\u001B[43m(\u001B[49m\u001B[43mhttp_error_wait\u001B[49m\u001B[43m)\u001B[49m\n\u001B[1;32m    122\u001B[0m http_error_wait \u001B[38;5;241m*\u001B[39m\u001B[38;5;241m=\u001B[39m \u001B[38;5;241m2\u001B[39m\n\u001B[1;32m    123\u001B[0m \u001B[38;5;28;01mif\u001B[39;00m http_error_wait \u001B[38;5;241m>\u001B[39m http_error_wait_max:\n",
      "\u001B[0;31mKeyboardInterrupt\u001B[0m: "
     ]
    }
   ],
   "source": [
    "\n",
    "\n",
    "class MyListener(tweepy.Stream):\n",
    "    def on_data(self, data):\n",
    "        try:\n",
    "            with open('python.json', 'a') as f:\n",
    "                f.write(data)\n",
    "                return True\n",
    "        except BaseException as e:\n",
    "            print(\"Error on_data: %s\" % str(e))\n",
    "        return True\n",
    " \n",
    "    def on_error(self, status):\n",
    "        print(status)\n",
    "        return True\n",
    " \n",
    "twitter_stream = MyListener(consumer_key, consumer_secret, access_token, access_token_secret)\n",
    "\n",
    "twitter_stream.filter(track=['python'])\n"
   ]
  },
  {
   "cell_type": "code",
   "execution_count": 10,
   "id": "812f5d15",
   "metadata": {},
   "outputs": [
    {
     "ename": "NameError",
     "evalue": "name 'listener' is not defined",
     "output_type": "error",
     "traceback": [
      "\u001B[0;31m---------------------------------------------------------------------------\u001B[0m",
      "\u001B[0;31mNameError\u001B[0m                                 Traceback (most recent call last)",
      "Input \u001B[0;32mIn [10]\u001B[0m, in \u001B[0;36m<cell line: 1>\u001B[0;34m()\u001B[0m\n\u001B[0;32m----> 1\u001B[0m stream \u001B[38;5;241m=\u001B[39m Stream(auth\u001B[38;5;241m=\u001B[39mapi\u001B[38;5;241m.\u001B[39mauth, listener\u001B[38;5;241m=\u001B[39m\u001B[43mlistener\u001B[49m)\n\u001B[1;32m      2\u001B[0m \u001B[38;5;28;01mtry\u001B[39;00m:\n\u001B[1;32m      3\u001B[0m     \u001B[38;5;28mprint\u001B[39m(\u001B[38;5;124m'\u001B[39m\u001B[38;5;124mStart streaming.\u001B[39m\u001B[38;5;124m'\u001B[39m)\n",
      "\u001B[0;31mNameError\u001B[0m: name 'listener' is not defined"
     ]
    }
   ],
   "source": [
    "stream = Stream(auth=api.auth, listener=listener)\n",
    "try:\n",
    "    print('Start streaming.')\n",
    "    stream.sample(languages=['en'])\n",
    "except KeyboardInterrupt as e :\n",
    "    print(\"Stopped.\")\n",
    "finally:\n",
    "    print('Done.')\n",
    "    stream.disconnect()\n",
    "    output.close()\n",
    "\n",
    "\n"
   ]
  },
  {
   "cell_type": "code",
   "execution_count": 5,
   "id": "d09f988e",
   "metadata": {},
   "outputs": [
    {
     "name": "stderr",
     "output_type": "stream",
     "text": [
      "CRITICAL:root:twint.run:Twint:Feed:noDataExpecting value: line 1 column 1 (char 0)\n",
      "sleeping for 1.0 secs\n",
      "CRITICAL:root:twint.run:Twint:Feed:noDataExpecting value: line 1 column 1 (char 0)\n",
      "sleeping for 8.0 secs\n",
      "CRITICAL:root:twint.run:Twint:Feed:noDataExpecting value: line 1 column 1 (char 0)\n",
      "sleeping for 27.0 secs\n",
      "CRITICAL:root:twint.run:Twint:Feed:noDataExpecting value: line 1 column 1 (char 0)\n",
      "sleeping for 64.0 secs\n"
     ]
    },
    {
     "ename": "KeyboardInterrupt",
     "evalue": "",
     "output_type": "error",
     "traceback": [
      "\u001B[0;31m---------------------------------------------------------------------------\u001B[0m",
      "\u001B[0;31mJSONDecodeError\u001B[0m                           Traceback (most recent call last)",
      "File \u001B[0;32m/opt/anaconda3/lib/python3.9/site-packages/twint/run.py:65\u001B[0m, in \u001B[0;36mTwint.Feed\u001B[0;34m(self)\u001B[0m\n\u001B[1;32m     64\u001B[0m \u001B[38;5;28;01melif\u001B[39;00m \u001B[38;5;28mself\u001B[39m\u001B[38;5;241m.\u001B[39mconfig\u001B[38;5;241m.\u001B[39mTwitterSearch:\n\u001B[0;32m---> 65\u001B[0m     \u001B[38;5;28mself\u001B[39m\u001B[38;5;241m.\u001B[39mfeed, \u001B[38;5;28mself\u001B[39m\u001B[38;5;241m.\u001B[39minit \u001B[38;5;241m=\u001B[39m \u001B[43mfeed\u001B[49m\u001B[38;5;241;43m.\u001B[39;49m\u001B[43mJson\u001B[49m\u001B[43m(\u001B[49m\u001B[43mresponse\u001B[49m\u001B[43m)\u001B[49m\n\u001B[1;32m     66\u001B[0m \u001B[38;5;28;01mbreak\u001B[39;00m\n",
      "File \u001B[0;32m/opt/anaconda3/lib/python3.9/site-packages/twint/feed.py:42\u001B[0m, in \u001B[0;36mJson\u001B[0;34m(response)\u001B[0m\n\u001B[1;32m     41\u001B[0m logme\u001B[38;5;241m.\u001B[39mdebug(\u001B[38;5;18m__name__\u001B[39m\u001B[38;5;241m+\u001B[39m\u001B[38;5;124m'\u001B[39m\u001B[38;5;124m:Json\u001B[39m\u001B[38;5;124m'\u001B[39m)\n\u001B[0;32m---> 42\u001B[0m json_response \u001B[38;5;241m=\u001B[39m \u001B[43mloads\u001B[49m\u001B[43m(\u001B[49m\u001B[43mresponse\u001B[49m\u001B[43m)\u001B[49m\n\u001B[1;32m     43\u001B[0m html \u001B[38;5;241m=\u001B[39m json_response[\u001B[38;5;124m\"\u001B[39m\u001B[38;5;124mitems_html\u001B[39m\u001B[38;5;124m\"\u001B[39m]\n",
      "File \u001B[0;32m/opt/anaconda3/lib/python3.9/json/__init__.py:346\u001B[0m, in \u001B[0;36mloads\u001B[0;34m(s, cls, object_hook, parse_float, parse_int, parse_constant, object_pairs_hook, **kw)\u001B[0m\n\u001B[1;32m    343\u001B[0m \u001B[38;5;28;01mif\u001B[39;00m (\u001B[38;5;28mcls\u001B[39m \u001B[38;5;129;01mis\u001B[39;00m \u001B[38;5;28;01mNone\u001B[39;00m \u001B[38;5;129;01mand\u001B[39;00m object_hook \u001B[38;5;129;01mis\u001B[39;00m \u001B[38;5;28;01mNone\u001B[39;00m \u001B[38;5;129;01mand\u001B[39;00m\n\u001B[1;32m    344\u001B[0m         parse_int \u001B[38;5;129;01mis\u001B[39;00m \u001B[38;5;28;01mNone\u001B[39;00m \u001B[38;5;129;01mand\u001B[39;00m parse_float \u001B[38;5;129;01mis\u001B[39;00m \u001B[38;5;28;01mNone\u001B[39;00m \u001B[38;5;129;01mand\u001B[39;00m\n\u001B[1;32m    345\u001B[0m         parse_constant \u001B[38;5;129;01mis\u001B[39;00m \u001B[38;5;28;01mNone\u001B[39;00m \u001B[38;5;129;01mand\u001B[39;00m object_pairs_hook \u001B[38;5;129;01mis\u001B[39;00m \u001B[38;5;28;01mNone\u001B[39;00m \u001B[38;5;129;01mand\u001B[39;00m \u001B[38;5;129;01mnot\u001B[39;00m kw):\n\u001B[0;32m--> 346\u001B[0m     \u001B[38;5;28;01mreturn\u001B[39;00m \u001B[43m_default_decoder\u001B[49m\u001B[38;5;241;43m.\u001B[39;49m\u001B[43mdecode\u001B[49m\u001B[43m(\u001B[49m\u001B[43ms\u001B[49m\u001B[43m)\u001B[49m\n\u001B[1;32m    347\u001B[0m \u001B[38;5;28;01mif\u001B[39;00m \u001B[38;5;28mcls\u001B[39m \u001B[38;5;129;01mis\u001B[39;00m \u001B[38;5;28;01mNone\u001B[39;00m:\n",
      "File \u001B[0;32m/opt/anaconda3/lib/python3.9/json/decoder.py:337\u001B[0m, in \u001B[0;36mJSONDecoder.decode\u001B[0;34m(self, s, _w)\u001B[0m\n\u001B[1;32m    333\u001B[0m \u001B[38;5;124;03m\"\"\"Return the Python representation of ``s`` (a ``str`` instance\u001B[39;00m\n\u001B[1;32m    334\u001B[0m \u001B[38;5;124;03mcontaining a JSON document).\u001B[39;00m\n\u001B[1;32m    335\u001B[0m \n\u001B[1;32m    336\u001B[0m \u001B[38;5;124;03m\"\"\"\u001B[39;00m\n\u001B[0;32m--> 337\u001B[0m obj, end \u001B[38;5;241m=\u001B[39m \u001B[38;5;28;43mself\u001B[39;49m\u001B[38;5;241;43m.\u001B[39;49m\u001B[43mraw_decode\u001B[49m\u001B[43m(\u001B[49m\u001B[43ms\u001B[49m\u001B[43m,\u001B[49m\u001B[43m \u001B[49m\u001B[43midx\u001B[49m\u001B[38;5;241;43m=\u001B[39;49m\u001B[43m_w\u001B[49m\u001B[43m(\u001B[49m\u001B[43ms\u001B[49m\u001B[43m,\u001B[49m\u001B[43m \u001B[49m\u001B[38;5;241;43m0\u001B[39;49m\u001B[43m)\u001B[49m\u001B[38;5;241;43m.\u001B[39;49m\u001B[43mend\u001B[49m\u001B[43m(\u001B[49m\u001B[43m)\u001B[49m\u001B[43m)\u001B[49m\n\u001B[1;32m    338\u001B[0m end \u001B[38;5;241m=\u001B[39m _w(s, end)\u001B[38;5;241m.\u001B[39mend()\n",
      "File \u001B[0;32m/opt/anaconda3/lib/python3.9/json/decoder.py:355\u001B[0m, in \u001B[0;36mJSONDecoder.raw_decode\u001B[0;34m(self, s, idx)\u001B[0m\n\u001B[1;32m    354\u001B[0m \u001B[38;5;28;01mexcept\u001B[39;00m \u001B[38;5;167;01mStopIteration\u001B[39;00m \u001B[38;5;28;01mas\u001B[39;00m err:\n\u001B[0;32m--> 355\u001B[0m     \u001B[38;5;28;01mraise\u001B[39;00m JSONDecodeError(\u001B[38;5;124m\"\u001B[39m\u001B[38;5;124mExpecting value\u001B[39m\u001B[38;5;124m\"\u001B[39m, s, err\u001B[38;5;241m.\u001B[39mvalue) \u001B[38;5;28;01mfrom\u001B[39;00m \u001B[38;5;28mNone\u001B[39m\n\u001B[1;32m    356\u001B[0m \u001B[38;5;28;01mreturn\u001B[39;00m obj, end\n",
      "\u001B[0;31mJSONDecodeError\u001B[0m: Expecting value: line 1 column 1 (char 0)",
      "\nDuring handling of the above exception, another exception occurred:\n",
      "\u001B[0;31mKeyboardInterrupt\u001B[0m                         Traceback (most recent call last)",
      "Input \u001B[0;32mIn [5]\u001B[0m, in \u001B[0;36m<cell line: 1>\u001B[0;34m()\u001B[0m\n\u001B[0;32m----> 1\u001B[0m \u001B[43mtwint\u001B[49m\u001B[38;5;241;43m.\u001B[39;49m\u001B[43mrun\u001B[49m\u001B[38;5;241;43m.\u001B[39;49m\u001B[43mSearch\u001B[49m\u001B[43m(\u001B[49m\u001B[43mc\u001B[49m\u001B[43m)\u001B[49m\n",
      "File \u001B[0;32m/opt/anaconda3/lib/python3.9/site-packages/twint/run.py:327\u001B[0m, in \u001B[0;36mSearch\u001B[0;34m(config, callback)\u001B[0m\n\u001B[1;32m    325\u001B[0m config\u001B[38;5;241m.\u001B[39mProfile \u001B[38;5;241m=\u001B[39m \u001B[38;5;28;01mFalse\u001B[39;00m\n\u001B[1;32m    326\u001B[0m config\u001B[38;5;241m.\u001B[39mProfile_full \u001B[38;5;241m=\u001B[39m \u001B[38;5;28;01mFalse\u001B[39;00m\n\u001B[0;32m--> 327\u001B[0m \u001B[43mrun\u001B[49m\u001B[43m(\u001B[49m\u001B[43mconfig\u001B[49m\u001B[43m,\u001B[49m\u001B[43m \u001B[49m\u001B[43mcallback\u001B[49m\u001B[43m)\u001B[49m\n\u001B[1;32m    328\u001B[0m \u001B[38;5;28;01mif\u001B[39;00m config\u001B[38;5;241m.\u001B[39mPandas_au:\n\u001B[1;32m    329\u001B[0m     storage\u001B[38;5;241m.\u001B[39mpanda\u001B[38;5;241m.\u001B[39m_autoget(\u001B[38;5;124m\"\u001B[39m\u001B[38;5;124mtweet\u001B[39m\u001B[38;5;124m\"\u001B[39m)\n",
      "File \u001B[0;32m/opt/anaconda3/lib/python3.9/site-packages/twint/run.py:226\u001B[0m, in \u001B[0;36mrun\u001B[0;34m(config, callback)\u001B[0m\n\u001B[1;32m    223\u001B[0m     logme\u001B[38;5;241m.\u001B[39mexception(\u001B[38;5;18m__name__\u001B[39m\u001B[38;5;241m+\u001B[39m\u001B[38;5;124m'\u001B[39m\u001B[38;5;124m:Lookup:Unexpected exception occured while attempting to get or create a new event loop.\u001B[39m\u001B[38;5;124m'\u001B[39m)\n\u001B[1;32m    224\u001B[0m     \u001B[38;5;28;01mraise\u001B[39;00m\n\u001B[0;32m--> 226\u001B[0m \u001B[43mget_event_loop\u001B[49m\u001B[43m(\u001B[49m\u001B[43m)\u001B[49m\u001B[38;5;241;43m.\u001B[39;49m\u001B[43mrun_until_complete\u001B[49m\u001B[43m(\u001B[49m\u001B[43mTwint\u001B[49m\u001B[43m(\u001B[49m\u001B[43mconfig\u001B[49m\u001B[43m)\u001B[49m\u001B[38;5;241;43m.\u001B[39;49m\u001B[43mmain\u001B[49m\u001B[43m(\u001B[49m\u001B[43mcallback\u001B[49m\u001B[43m)\u001B[49m\u001B[43m)\u001B[49m\n",
      "File \u001B[0;32m/opt/anaconda3/lib/python3.9/site-packages/nest_asyncio.py:83\u001B[0m, in \u001B[0;36m_patch_loop.<locals>.run_until_complete\u001B[0;34m(self, future)\u001B[0m\n\u001B[1;32m     81\u001B[0m     f\u001B[38;5;241m.\u001B[39m_log_destroy_pending \u001B[38;5;241m=\u001B[39m \u001B[38;5;28;01mFalse\u001B[39;00m\n\u001B[1;32m     82\u001B[0m \u001B[38;5;28;01mwhile\u001B[39;00m \u001B[38;5;129;01mnot\u001B[39;00m f\u001B[38;5;241m.\u001B[39mdone():\n\u001B[0;32m---> 83\u001B[0m     \u001B[38;5;28;43mself\u001B[39;49m\u001B[38;5;241;43m.\u001B[39;49m\u001B[43m_run_once\u001B[49m\u001B[43m(\u001B[49m\u001B[43m)\u001B[49m\n\u001B[1;32m     84\u001B[0m     \u001B[38;5;28;01mif\u001B[39;00m \u001B[38;5;28mself\u001B[39m\u001B[38;5;241m.\u001B[39m_stopping:\n\u001B[1;32m     85\u001B[0m         \u001B[38;5;28;01mbreak\u001B[39;00m\n",
      "File \u001B[0;32m/opt/anaconda3/lib/python3.9/site-packages/nest_asyncio.py:119\u001B[0m, in \u001B[0;36m_patch_loop.<locals>._run_once\u001B[0;34m(self)\u001B[0m\n\u001B[1;32m    117\u001B[0m     handle \u001B[38;5;241m=\u001B[39m ready\u001B[38;5;241m.\u001B[39mpopleft()\n\u001B[1;32m    118\u001B[0m     \u001B[38;5;28;01mif\u001B[39;00m \u001B[38;5;129;01mnot\u001B[39;00m handle\u001B[38;5;241m.\u001B[39m_cancelled:\n\u001B[0;32m--> 119\u001B[0m         \u001B[43mhandle\u001B[49m\u001B[38;5;241;43m.\u001B[39;49m\u001B[43m_run\u001B[49m\u001B[43m(\u001B[49m\u001B[43m)\u001B[49m\n\u001B[1;32m    120\u001B[0m handle \u001B[38;5;241m=\u001B[39m \u001B[38;5;28;01mNone\u001B[39;00m\n",
      "File \u001B[0;32m/opt/anaconda3/lib/python3.9/asyncio/events.py:80\u001B[0m, in \u001B[0;36mHandle._run\u001B[0;34m(self)\u001B[0m\n\u001B[1;32m     78\u001B[0m \u001B[38;5;28;01mdef\u001B[39;00m \u001B[38;5;21m_run\u001B[39m(\u001B[38;5;28mself\u001B[39m):\n\u001B[1;32m     79\u001B[0m     \u001B[38;5;28;01mtry\u001B[39;00m:\n\u001B[0;32m---> 80\u001B[0m         \u001B[38;5;28;43mself\u001B[39;49m\u001B[38;5;241;43m.\u001B[39;49m\u001B[43m_context\u001B[49m\u001B[38;5;241;43m.\u001B[39;49m\u001B[43mrun\u001B[49m\u001B[43m(\u001B[49m\u001B[38;5;28;43mself\u001B[39;49m\u001B[38;5;241;43m.\u001B[39;49m\u001B[43m_callback\u001B[49m\u001B[43m,\u001B[49m\u001B[43m \u001B[49m\u001B[38;5;241;43m*\u001B[39;49m\u001B[38;5;28;43mself\u001B[39;49m\u001B[38;5;241;43m.\u001B[39;49m\u001B[43m_args\u001B[49m\u001B[43m)\u001B[49m\n\u001B[1;32m     81\u001B[0m     \u001B[38;5;28;01mexcept\u001B[39;00m (\u001B[38;5;167;01mSystemExit\u001B[39;00m, \u001B[38;5;167;01mKeyboardInterrupt\u001B[39;00m):\n\u001B[1;32m     82\u001B[0m         \u001B[38;5;28;01mraise\u001B[39;00m\n",
      "File \u001B[0;32m/opt/anaconda3/lib/python3.9/site-packages/nest_asyncio.py:195\u001B[0m, in \u001B[0;36m_patch_task.<locals>.step\u001B[0;34m(task, exc)\u001B[0m\n\u001B[1;32m    193\u001B[0m curr_task \u001B[38;5;241m=\u001B[39m curr_tasks\u001B[38;5;241m.\u001B[39mget(task\u001B[38;5;241m.\u001B[39m_loop)\n\u001B[1;32m    194\u001B[0m \u001B[38;5;28;01mtry\u001B[39;00m:\n\u001B[0;32m--> 195\u001B[0m     \u001B[43mstep_orig\u001B[49m\u001B[43m(\u001B[49m\u001B[43mtask\u001B[49m\u001B[43m,\u001B[49m\u001B[43m \u001B[49m\u001B[43mexc\u001B[49m\u001B[43m)\u001B[49m\n\u001B[1;32m    196\u001B[0m \u001B[38;5;28;01mfinally\u001B[39;00m:\n\u001B[1;32m    197\u001B[0m     \u001B[38;5;28;01mif\u001B[39;00m curr_task \u001B[38;5;129;01mis\u001B[39;00m \u001B[38;5;28;01mNone\u001B[39;00m:\n",
      "File \u001B[0;32m/opt/anaconda3/lib/python3.9/asyncio/tasks.py:256\u001B[0m, in \u001B[0;36mTask.__step\u001B[0;34m(***failed resolving arguments***)\u001B[0m\n\u001B[1;32m    252\u001B[0m \u001B[38;5;28;01mtry\u001B[39;00m:\n\u001B[1;32m    253\u001B[0m     \u001B[38;5;28;01mif\u001B[39;00m exc \u001B[38;5;129;01mis\u001B[39;00m \u001B[38;5;28;01mNone\u001B[39;00m:\n\u001B[1;32m    254\u001B[0m         \u001B[38;5;66;03m# We use the `send` method directly, because coroutines\u001B[39;00m\n\u001B[1;32m    255\u001B[0m         \u001B[38;5;66;03m# don't have `__iter__` and `__next__` methods.\u001B[39;00m\n\u001B[0;32m--> 256\u001B[0m         result \u001B[38;5;241m=\u001B[39m \u001B[43mcoro\u001B[49m\u001B[38;5;241;43m.\u001B[39;49m\u001B[43msend\u001B[49m\u001B[43m(\u001B[49m\u001B[38;5;28;43;01mNone\u001B[39;49;00m\u001B[43m)\u001B[49m\n\u001B[1;32m    257\u001B[0m     \u001B[38;5;28;01melse\u001B[39;00m:\n\u001B[1;32m    258\u001B[0m         result \u001B[38;5;241m=\u001B[39m coro\u001B[38;5;241m.\u001B[39mthrow(exc)\n",
      "File \u001B[0;32m/opt/anaconda3/lib/python3.9/site-packages/twint/run.py:199\u001B[0m, in \u001B[0;36mTwint.run\u001B[0;34m(self)\u001B[0m\n\u001B[1;32m    197\u001B[0m     \u001B[38;5;28;01melif\u001B[39;00m \u001B[38;5;28mself\u001B[39m\u001B[38;5;241m.\u001B[39mconfig\u001B[38;5;241m.\u001B[39mTwitterSearch:\n\u001B[1;32m    198\u001B[0m         logme\u001B[38;5;241m.\u001B[39mdebug(\u001B[38;5;18m__name__\u001B[39m\u001B[38;5;241m+\u001B[39m\u001B[38;5;124m'\u001B[39m\u001B[38;5;124m:Twint:main:twitter-search\u001B[39m\u001B[38;5;124m'\u001B[39m)\n\u001B[0;32m--> 199\u001B[0m         \u001B[38;5;28;01mawait\u001B[39;00m \u001B[38;5;28mself\u001B[39m\u001B[38;5;241m.\u001B[39mtweets()\n\u001B[1;32m    200\u001B[0m \u001B[38;5;28;01melse\u001B[39;00m:\n\u001B[1;32m    201\u001B[0m     logme\u001B[38;5;241m.\u001B[39mdebug(\u001B[38;5;18m__name__\u001B[39m\u001B[38;5;241m+\u001B[39m\u001B[38;5;124m'\u001B[39m\u001B[38;5;124m:Twint:main:no-more-tweets\u001B[39m\u001B[38;5;124m'\u001B[39m)\n",
      "File \u001B[0;32m/opt/anaconda3/lib/python3.9/site-packages/twint/run.py:137\u001B[0m, in \u001B[0;36mTwint.tweets\u001B[0;34m(self)\u001B[0m\n\u001B[1;32m    136\u001B[0m \u001B[38;5;28;01masync\u001B[39;00m \u001B[38;5;28;01mdef\u001B[39;00m \u001B[38;5;21mtweets\u001B[39m(\u001B[38;5;28mself\u001B[39m):\n\u001B[0;32m--> 137\u001B[0m     \u001B[38;5;28;01mawait\u001B[39;00m \u001B[38;5;28mself\u001B[39m\u001B[38;5;241m.\u001B[39mFeed()\n\u001B[1;32m    138\u001B[0m     \u001B[38;5;28;01mif\u001B[39;00m \u001B[38;5;28mself\u001B[39m\u001B[38;5;241m.\u001B[39mconfig\u001B[38;5;241m.\u001B[39mLocation:\n\u001B[1;32m    139\u001B[0m         logme\u001B[38;5;241m.\u001B[39mdebug(\u001B[38;5;18m__name__\u001B[39m\u001B[38;5;241m+\u001B[39m\u001B[38;5;124m'\u001B[39m\u001B[38;5;124m:Twint:tweets:location\u001B[39m\u001B[38;5;124m'\u001B[39m)\n",
      "File \u001B[0;32m/opt/anaconda3/lib/python3.9/site-packages/twint/run.py:98\u001B[0m, in \u001B[0;36mTwint.Feed\u001B[0;34m(self)\u001B[0m\n\u001B[1;32m     95\u001B[0m     delay \u001B[38;5;241m=\u001B[39m \u001B[38;5;28mself\u001B[39m\u001B[38;5;241m.\u001B[39mconfig\u001B[38;5;241m.\u001B[39mMin_wait_time\n\u001B[1;32m     97\u001B[0m sys\u001B[38;5;241m.\u001B[39mstderr\u001B[38;5;241m.\u001B[39mwrite(\u001B[38;5;124m'\u001B[39m\u001B[38;5;124msleeping for \u001B[39m\u001B[38;5;132;01m{}\u001B[39;00m\u001B[38;5;124m secs\u001B[39m\u001B[38;5;130;01m\\n\u001B[39;00m\u001B[38;5;124m'\u001B[39m\u001B[38;5;241m.\u001B[39mformat(delay))\n\u001B[0;32m---> 98\u001B[0m \u001B[43mtime\u001B[49m\u001B[38;5;241;43m.\u001B[39;49m\u001B[43msleep\u001B[49m\u001B[43m(\u001B[49m\u001B[43mdelay\u001B[49m\u001B[43m)\u001B[49m\n\u001B[1;32m     99\u001B[0m \u001B[38;5;28mself\u001B[39m\u001B[38;5;241m.\u001B[39muser_agent \u001B[38;5;241m=\u001B[39m \u001B[38;5;28;01mawait\u001B[39;00m get\u001B[38;5;241m.\u001B[39mRandomUserAgent(wa\u001B[38;5;241m=\u001B[39m\u001B[38;5;28;01mTrue\u001B[39;00m)\n\u001B[1;32m    100\u001B[0m \u001B[38;5;28;01mcontinue\u001B[39;00m\n",
      "\u001B[0;31mKeyboardInterrupt\u001B[0m: "
     ]
    }
   ],
   "source": [
    "twint.run.Search(c)"
   ]
  }
 ],
 "metadata": {
  "kernelspec": {
   "display_name": "Python 3 (ipykernel)",
   "language": "python",
   "name": "python3"
  },
  "language_info": {
   "codemirror_mode": {
    "name": "ipython",
    "version": 3
   },
   "file_extension": ".py",
   "mimetype": "text/x-python",
   "name": "python",
   "nbconvert_exporter": "python",
   "pygments_lexer": "ipython3",
   "version": "3.9.13"
  }
 },
 "nbformat": 4,
 "nbformat_minor": 5
}
