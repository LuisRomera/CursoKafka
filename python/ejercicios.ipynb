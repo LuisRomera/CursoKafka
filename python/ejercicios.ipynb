{
 "cells": [
  {
   "cell_type": "code",
   "execution_count": 14,
   "id": "e2a2a1d3",
   "metadata": {},
   "outputs": [],
   "source": [
    "from kafka import KafkaProducer\n",
    "\n",
    "producer = KafkaProducer(bootstrap_servers='localhost:9092')\n",
    "producerB = KafkaProducer(bootstrap_servers='localhost:9092')"
   ]
  },
  {
   "cell_type": "code",
   "execution_count": 9,
   "id": "b1b4bc53",
   "metadata": {},
   "outputs": [
    {
     "data": {
      "text/plain": [
       "<kafka.producer.future.FutureRecordMetadata at 0x106939b50>"
      ]
     },
     "execution_count": 9,
     "metadata": {},
     "output_type": "execute_result"
    }
   ],
   "source": [
    "producer.send('practice.in', key=b'keyH', value=b'value') "
   ]
  },
  {
   "cell_type": "code",
   "execution_count": 7,
   "id": "55bea4de",
   "metadata": {},
   "outputs": [
    {
     "data": {
      "text/plain": [
       "<kafka.producer.future.FutureRecordMetadata at 0x10692a370>"
      ]
     },
     "execution_count": 7,
     "metadata": {},
     "output_type": "execute_result"
    }
   ],
   "source": [
    "producer.send('practice.in', key=b'keyH', value=b'value', partition=2) "
   ]
  },
  {
   "cell_type": "markdown",
   "id": "11c3ab6d",
   "metadata": {},
   "source": [
    "# Consumidor"
   ]
  },
  {
   "cell_type": "code",
   "execution_count": null,
   "id": "6fa8183c",
   "metadata": {},
   "outputs": [],
   "source": [
    "from confluent_kafka import Consumer\n",
    "\n",
    "conf = {'bootstrap.servers': 'localhost:9092',\n",
    "        'group.id': \"nueva\"}\n",
    "\n",
    "\n",
    "consumer = Consumer(conf)\n",
    "\n",
    "topics = ['practice.in']\n",
    "consumer.subscribe(topics)\n",
    "\n",
    "try:\n",
    "    while True:\n",
    "        msg = consumer.poll(timeout=1.0)\n",
    "        if msg is not None:\n",
    "            string = msg.value().decode('utf-8')\n",
    "            # split\n",
    "            producer.send('practice.out', value=string.encode('utf-8')) \n",
    "except:\n",
    "    print('Error')"
   ]
  },
  {
   "cell_type": "code",
   "execution_count": null,
   "id": "476952cb",
   "metadata": {},
   "outputs": [],
   "source": []
  },
  {
   "cell_type": "code",
   "execution_count": null,
   "id": "cd11120b",
   "metadata": {},
   "outputs": [],
   "source": []
  }
 ],
 "metadata": {
  "kernelspec": {
   "display_name": "Python 3 (ipykernel)",
   "language": "python",
   "name": "python3"
  },
  "language_info": {
   "codemirror_mode": {
    "name": "ipython",
    "version": 3
   },
   "file_extension": ".py",
   "mimetype": "text/x-python",
   "name": "python",
   "nbconvert_exporter": "python",
   "pygments_lexer": "ipython3",
   "version": "3.9.13"
  }
 },
 "nbformat": 4,
 "nbformat_minor": 5
}
